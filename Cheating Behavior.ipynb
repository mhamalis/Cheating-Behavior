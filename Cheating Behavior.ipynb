{
 "cells": [
  {
   "cell_type": "markdown",
   "metadata": {},
   "source": [
    "# Setup Data Processing"
   ]
  },
  {
   "cell_type": "code",
   "execution_count": 1,
   "metadata": {
    "collapsed": true
   },
   "outputs": [],
   "source": [
    "#Imports the necessary packages\n",
    "\n",
    "import pandas as pd\n",
    "import numpy as np\n",
    "import seaborn as sns\n",
    "import matplotlib.pyplot as plt\n",
    "import math\n",
    "import scipy"
   ]
  },
  {
   "cell_type": "code",
   "execution_count": 2,
   "metadata": {
    "collapsed": false
   },
   "outputs": [],
   "source": [
    "#import clean data\n",
    "df=pd.read_csv(\"C:\\\\Azure-TDSP-Utilities-master\\\\Azure-TDSP-Utilities-master\\\\DataScienceUtilities\\\\DataReport-Utils\\\\Python\\\\CheatingEdited3.csv\")"
   ]
  },
  {
   "cell_type": "markdown",
   "metadata": {},
   "source": [
    "# Display Data"
   ]
  },
  {
   "cell_type": "code",
   "execution_count": 10,
   "metadata": {
    "collapsed": false
   },
   "outputs": [
    {
     "data": {
      "text/html": [
       "<div>\n",
       "<style>\n",
       "    .dataframe thead tr:only-child th {\n",
       "        text-align: right;\n",
       "    }\n",
       "\n",
       "    .dataframe thead th {\n",
       "        text-align: left;\n",
       "    }\n",
       "\n",
       "    .dataframe tbody tr th {\n",
       "        vertical-align: top;\n",
       "    }\n",
       "</style>\n",
       "<table border=\"1\" class=\"dataframe\">\n",
       "  <thead>\n",
       "    <tr style=\"text-align: right;\">\n",
       "      <th></th>\n",
       "      <th>GPA</th>\n",
       "      <th>HoursinExtracurricular</th>\n",
       "      <th>Income</th>\n",
       "      <th>Gender</th>\n",
       "      <th>Gradelevel</th>\n",
       "      <th>FreshmanAcademy</th>\n",
       "      <th>CheatStyleCAT</th>\n",
       "      <th>SOCcheatstyle</th>\n",
       "      <th>PercentThinkCheat</th>\n",
       "      <th>NumberHonorsClasses</th>\n",
       "      <th>BoredinClass</th>\n",
       "      <th>LearnFromAssgmt</th>\n",
       "      <th>HOmewrkIsBusyWrk</th>\n",
       "      <th>TeachersGood</th>\n",
       "      <th>UnderstandClassMaterial</th>\n",
       "      <th>StruggleWithHomework</th>\n",
       "      <th>NoTimeforHomework</th>\n",
       "      <th>ImproveinClassImport</th>\n",
       "      <th>LearningMainGoal</th>\n",
       "    </tr>\n",
       "  </thead>\n",
       "  <tbody>\n",
       "    <tr>\n",
       "      <th>0</th>\n",
       "      <td>NaN</td>\n",
       "      <td>NaN</td>\n",
       "      <td>NaN</td>\n",
       "      <td>NaN</td>\n",
       "      <td>NaN</td>\n",
       "      <td>NaN</td>\n",
       "      <td>4.0</td>\n",
       "      <td>2.0</td>\n",
       "      <td>99.5</td>\n",
       "      <td>NaN</td>\n",
       "      <td>NaN</td>\n",
       "      <td>NaN</td>\n",
       "      <td>NaN</td>\n",
       "      <td>NaN</td>\n",
       "      <td>NaN</td>\n",
       "      <td>NaN</td>\n",
       "      <td>NaN</td>\n",
       "      <td>NaN</td>\n",
       "      <td>NaN</td>\n",
       "    </tr>\n",
       "    <tr>\n",
       "      <th>1</th>\n",
       "      <td>NaN</td>\n",
       "      <td>NaN</td>\n",
       "      <td>NaN</td>\n",
       "      <td>NaN</td>\n",
       "      <td>NaN</td>\n",
       "      <td>NaN</td>\n",
       "      <td>1.0</td>\n",
       "      <td>1.0</td>\n",
       "      <td>70.0</td>\n",
       "      <td>NaN</td>\n",
       "      <td>5.0</td>\n",
       "      <td>2.0</td>\n",
       "      <td>3.0</td>\n",
       "      <td>3.0</td>\n",
       "      <td>3.0</td>\n",
       "      <td>2.0</td>\n",
       "      <td>3.0</td>\n",
       "      <td>5.0</td>\n",
       "      <td>4.0</td>\n",
       "    </tr>\n",
       "    <tr>\n",
       "      <th>2</th>\n",
       "      <td>NaN</td>\n",
       "      <td>NaN</td>\n",
       "      <td>NaN</td>\n",
       "      <td>NaN</td>\n",
       "      <td>NaN</td>\n",
       "      <td>NaN</td>\n",
       "      <td>2.0</td>\n",
       "      <td>1.0</td>\n",
       "      <td>10.0</td>\n",
       "      <td>1.0</td>\n",
       "      <td>NaN</td>\n",
       "      <td>4.0</td>\n",
       "      <td>4.0</td>\n",
       "      <td>NaN</td>\n",
       "      <td>3.0</td>\n",
       "      <td>5.0</td>\n",
       "      <td>1.0</td>\n",
       "      <td>6.0</td>\n",
       "      <td>3.0</td>\n",
       "    </tr>\n",
       "    <tr>\n",
       "      <th>3</th>\n",
       "      <td>NaN</td>\n",
       "      <td>NaN</td>\n",
       "      <td>NaN</td>\n",
       "      <td>NaN</td>\n",
       "      <td>NaN</td>\n",
       "      <td>NaN</td>\n",
       "      <td>3.0</td>\n",
       "      <td>2.0</td>\n",
       "      <td>90.0</td>\n",
       "      <td>NaN</td>\n",
       "      <td>5.0</td>\n",
       "      <td>5.0</td>\n",
       "      <td>2.0</td>\n",
       "      <td>2.0</td>\n",
       "      <td>4.0</td>\n",
       "      <td>5.0</td>\n",
       "      <td>2.0</td>\n",
       "      <td>4.0</td>\n",
       "      <td>5.0</td>\n",
       "    </tr>\n",
       "    <tr>\n",
       "      <th>4</th>\n",
       "      <td>6.0</td>\n",
       "      <td>1.0</td>\n",
       "      <td>4.0</td>\n",
       "      <td>1.0</td>\n",
       "      <td>NaN</td>\n",
       "      <td>NaN</td>\n",
       "      <td>4.0</td>\n",
       "      <td>2.0</td>\n",
       "      <td>50.0</td>\n",
       "      <td>1.0</td>\n",
       "      <td>5.0</td>\n",
       "      <td>4.0</td>\n",
       "      <td>1.0</td>\n",
       "      <td>3.0</td>\n",
       "      <td>5.0</td>\n",
       "      <td>4.0</td>\n",
       "      <td>4.0</td>\n",
       "      <td>6.0</td>\n",
       "      <td>4.0</td>\n",
       "    </tr>\n",
       "  </tbody>\n",
       "</table>\n",
       "</div>"
      ],
      "text/plain": [
       "   GPA  HoursinExtracurricular  Income  Gender  Gradelevel  FreshmanAcademy  \\\n",
       "0  NaN                     NaN     NaN     NaN         NaN              NaN   \n",
       "1  NaN                     NaN     NaN     NaN         NaN              NaN   \n",
       "2  NaN                     NaN     NaN     NaN         NaN              NaN   \n",
       "3  NaN                     NaN     NaN     NaN         NaN              NaN   \n",
       "4  6.0                     1.0     4.0     1.0         NaN              NaN   \n",
       "\n",
       "   CheatStyleCAT  SOCcheatstyle  PercentThinkCheat  NumberHonorsClasses  \\\n",
       "0            4.0            2.0               99.5                  NaN   \n",
       "1            1.0            1.0               70.0                  NaN   \n",
       "2            2.0            1.0               10.0                  1.0   \n",
       "3            3.0            2.0               90.0                  NaN   \n",
       "4            4.0            2.0               50.0                  1.0   \n",
       "\n",
       "   BoredinClass  LearnFromAssgmt  HOmewrkIsBusyWrk  TeachersGood  \\\n",
       "0           NaN              NaN               NaN           NaN   \n",
       "1           5.0              2.0               3.0           3.0   \n",
       "2           NaN              4.0               4.0           NaN   \n",
       "3           5.0              5.0               2.0           2.0   \n",
       "4           5.0              4.0               1.0           3.0   \n",
       "\n",
       "   UnderstandClassMaterial  StruggleWithHomework  NoTimeforHomework  \\\n",
       "0                      NaN                   NaN                NaN   \n",
       "1                      3.0                   2.0                3.0   \n",
       "2                      3.0                   5.0                1.0   \n",
       "3                      4.0                   5.0                2.0   \n",
       "4                      5.0                   4.0                4.0   \n",
       "\n",
       "   ImproveinClassImport  LearningMainGoal  \n",
       "0                   NaN               NaN  \n",
       "1                   5.0               4.0  \n",
       "2                   6.0               3.0  \n",
       "3                   4.0               5.0  \n",
       "4                   6.0               4.0  "
      ]
     },
     "execution_count": 10,
     "metadata": {},
     "output_type": "execute_result"
    }
   ],
   "source": [
    "df.head()"
   ]
  },
  {
   "cell_type": "code",
   "execution_count": 12,
   "metadata": {
    "collapsed": false
   },
   "outputs": [
    {
     "data": {
      "text/html": [
       "<div>\n",
       "<style>\n",
       "    .dataframe thead tr:only-child th {\n",
       "        text-align: right;\n",
       "    }\n",
       "\n",
       "    .dataframe thead th {\n",
       "        text-align: left;\n",
       "    }\n",
       "\n",
       "    .dataframe tbody tr th {\n",
       "        vertical-align: top;\n",
       "    }\n",
       "</style>\n",
       "<table border=\"1\" class=\"dataframe\">\n",
       "  <thead>\n",
       "    <tr style=\"text-align: right;\">\n",
       "      <th></th>\n",
       "      <th>GPA</th>\n",
       "      <th>HoursinExtracurricular</th>\n",
       "      <th>Income</th>\n",
       "      <th>Gender</th>\n",
       "      <th>Gradelevel</th>\n",
       "      <th>FreshmanAcademy</th>\n",
       "      <th>CheatStyleCAT</th>\n",
       "      <th>SOCcheatstyle</th>\n",
       "      <th>PercentThinkCheat</th>\n",
       "      <th>NumberHonorsClasses</th>\n",
       "      <th>BoredinClass</th>\n",
       "      <th>LearnFromAssgmt</th>\n",
       "      <th>HOmewrkIsBusyWrk</th>\n",
       "      <th>TeachersGood</th>\n",
       "      <th>UnderstandClassMaterial</th>\n",
       "      <th>StruggleWithHomework</th>\n",
       "      <th>NoTimeforHomework</th>\n",
       "      <th>ImproveinClassImport</th>\n",
       "      <th>LearningMainGoal</th>\n",
       "    </tr>\n",
       "  </thead>\n",
       "  <tbody>\n",
       "    <tr>\n",
       "      <th>count</th>\n",
       "      <td>635.000000</td>\n",
       "      <td>635.000000</td>\n",
       "      <td>555.000000</td>\n",
       "      <td>629.000000</td>\n",
       "      <td>635.000000</td>\n",
       "      <td>198.000000</td>\n",
       "      <td>639.000000</td>\n",
       "      <td>621.000000</td>\n",
       "      <td>637.000000</td>\n",
       "      <td>630.000000</td>\n",
       "      <td>635.000000</td>\n",
       "      <td>636.000000</td>\n",
       "      <td>633.000000</td>\n",
       "      <td>636.000000</td>\n",
       "      <td>632.000000</td>\n",
       "      <td>635.000000</td>\n",
       "      <td>637.000000</td>\n",
       "      <td>636.000000</td>\n",
       "      <td>635.000000</td>\n",
       "    </tr>\n",
       "    <tr>\n",
       "      <th>mean</th>\n",
       "      <td>6.366929</td>\n",
       "      <td>3.316535</td>\n",
       "      <td>3.652252</td>\n",
       "      <td>1.513514</td>\n",
       "      <td>2.245669</td>\n",
       "      <td>1.217172</td>\n",
       "      <td>2.247261</td>\n",
       "      <td>1.470209</td>\n",
       "      <td>61.576923</td>\n",
       "      <td>2.261905</td>\n",
       "      <td>4.680315</td>\n",
       "      <td>3.564465</td>\n",
       "      <td>4.266983</td>\n",
       "      <td>3.738994</td>\n",
       "      <td>3.150316</td>\n",
       "      <td>3.677165</td>\n",
       "      <td>4.230769</td>\n",
       "      <td>4.628931</td>\n",
       "      <td>4.494488</td>\n",
       "    </tr>\n",
       "    <tr>\n",
       "      <th>std</th>\n",
       "      <td>1.621769</td>\n",
       "      <td>2.180128</td>\n",
       "      <td>1.884712</td>\n",
       "      <td>0.500215</td>\n",
       "      <td>1.059489</td>\n",
       "      <td>0.413366</td>\n",
       "      <td>1.288320</td>\n",
       "      <td>0.499514</td>\n",
       "      <td>26.050303</td>\n",
       "      <td>1.852161</td>\n",
       "      <td>1.340996</td>\n",
       "      <td>1.374891</td>\n",
       "      <td>1.285188</td>\n",
       "      <td>1.421252</td>\n",
       "      <td>1.312333</td>\n",
       "      <td>1.542673</td>\n",
       "      <td>1.627726</td>\n",
       "      <td>1.315221</td>\n",
       "      <td>1.321224</td>\n",
       "    </tr>\n",
       "    <tr>\n",
       "      <th>min</th>\n",
       "      <td>1.000000</td>\n",
       "      <td>1.000000</td>\n",
       "      <td>1.000000</td>\n",
       "      <td>1.000000</td>\n",
       "      <td>1.000000</td>\n",
       "      <td>1.000000</td>\n",
       "      <td>1.000000</td>\n",
       "      <td>1.000000</td>\n",
       "      <td>0.000000</td>\n",
       "      <td>1.000000</td>\n",
       "      <td>1.000000</td>\n",
       "      <td>1.000000</td>\n",
       "      <td>1.000000</td>\n",
       "      <td>1.000000</td>\n",
       "      <td>1.000000</td>\n",
       "      <td>1.000000</td>\n",
       "      <td>1.000000</td>\n",
       "      <td>1.000000</td>\n",
       "      <td>1.000000</td>\n",
       "    </tr>\n",
       "    <tr>\n",
       "      <th>25%</th>\n",
       "      <td>5.000000</td>\n",
       "      <td>1.000000</td>\n",
       "      <td>2.000000</td>\n",
       "      <td>1.000000</td>\n",
       "      <td>1.000000</td>\n",
       "      <td>1.000000</td>\n",
       "      <td>1.000000</td>\n",
       "      <td>1.000000</td>\n",
       "      <td>40.000000</td>\n",
       "      <td>1.000000</td>\n",
       "      <td>4.000000</td>\n",
       "      <td>3.000000</td>\n",
       "      <td>4.000000</td>\n",
       "      <td>3.000000</td>\n",
       "      <td>2.000000</td>\n",
       "      <td>3.000000</td>\n",
       "      <td>3.000000</td>\n",
       "      <td>4.000000</td>\n",
       "      <td>4.000000</td>\n",
       "    </tr>\n",
       "    <tr>\n",
       "      <th>50%</th>\n",
       "      <td>7.000000</td>\n",
       "      <td>3.000000</td>\n",
       "      <td>3.000000</td>\n",
       "      <td>2.000000</td>\n",
       "      <td>2.000000</td>\n",
       "      <td>1.000000</td>\n",
       "      <td>2.000000</td>\n",
       "      <td>1.000000</td>\n",
       "      <td>70.000000</td>\n",
       "      <td>1.000000</td>\n",
       "      <td>5.000000</td>\n",
       "      <td>3.000000</td>\n",
       "      <td>4.000000</td>\n",
       "      <td>4.000000</td>\n",
       "      <td>3.000000</td>\n",
       "      <td>4.000000</td>\n",
       "      <td>4.000000</td>\n",
       "      <td>5.000000</td>\n",
       "      <td>5.000000</td>\n",
       "    </tr>\n",
       "    <tr>\n",
       "      <th>75%</th>\n",
       "      <td>8.000000</td>\n",
       "      <td>5.000000</td>\n",
       "      <td>5.000000</td>\n",
       "      <td>2.000000</td>\n",
       "      <td>3.000000</td>\n",
       "      <td>1.000000</td>\n",
       "      <td>4.000000</td>\n",
       "      <td>2.000000</td>\n",
       "      <td>80.000000</td>\n",
       "      <td>3.000000</td>\n",
       "      <td>6.000000</td>\n",
       "      <td>5.000000</td>\n",
       "      <td>5.000000</td>\n",
       "      <td>5.000000</td>\n",
       "      <td>4.000000</td>\n",
       "      <td>5.000000</td>\n",
       "      <td>6.000000</td>\n",
       "      <td>6.000000</td>\n",
       "      <td>5.000000</td>\n",
       "    </tr>\n",
       "    <tr>\n",
       "      <th>max</th>\n",
       "      <td>8.000000</td>\n",
       "      <td>7.000000</td>\n",
       "      <td>7.000000</td>\n",
       "      <td>2.000000</td>\n",
       "      <td>4.000000</td>\n",
       "      <td>2.000000</td>\n",
       "      <td>4.000000</td>\n",
       "      <td>2.000000</td>\n",
       "      <td>100.000000</td>\n",
       "      <td>11.000000</td>\n",
       "      <td>6.000000</td>\n",
       "      <td>6.000000</td>\n",
       "      <td>6.000000</td>\n",
       "      <td>6.000000</td>\n",
       "      <td>6.000000</td>\n",
       "      <td>6.000000</td>\n",
       "      <td>6.000000</td>\n",
       "      <td>6.000000</td>\n",
       "      <td>6.000000</td>\n",
       "    </tr>\n",
       "  </tbody>\n",
       "</table>\n",
       "</div>"
      ],
      "text/plain": [
       "              GPA  HoursinExtracurricular      Income      Gender  Gradelevel  \\\n",
       "count  635.000000              635.000000  555.000000  629.000000  635.000000   \n",
       "mean     6.366929                3.316535    3.652252    1.513514    2.245669   \n",
       "std      1.621769                2.180128    1.884712    0.500215    1.059489   \n",
       "min      1.000000                1.000000    1.000000    1.000000    1.000000   \n",
       "25%      5.000000                1.000000    2.000000    1.000000    1.000000   \n",
       "50%      7.000000                3.000000    3.000000    2.000000    2.000000   \n",
       "75%      8.000000                5.000000    5.000000    2.000000    3.000000   \n",
       "max      8.000000                7.000000    7.000000    2.000000    4.000000   \n",
       "\n",
       "       FreshmanAcademy  CheatStyleCAT  SOCcheatstyle  PercentThinkCheat  \\\n",
       "count       198.000000     639.000000     621.000000         637.000000   \n",
       "mean          1.217172       2.247261       1.470209          61.576923   \n",
       "std           0.413366       1.288320       0.499514          26.050303   \n",
       "min           1.000000       1.000000       1.000000           0.000000   \n",
       "25%           1.000000       1.000000       1.000000          40.000000   \n",
       "50%           1.000000       2.000000       1.000000          70.000000   \n",
       "75%           1.000000       4.000000       2.000000          80.000000   \n",
       "max           2.000000       4.000000       2.000000         100.000000   \n",
       "\n",
       "       NumberHonorsClasses  BoredinClass  LearnFromAssgmt  HOmewrkIsBusyWrk  \\\n",
       "count           630.000000    635.000000       636.000000        633.000000   \n",
       "mean              2.261905      4.680315         3.564465          4.266983   \n",
       "std               1.852161      1.340996         1.374891          1.285188   \n",
       "min               1.000000      1.000000         1.000000          1.000000   \n",
       "25%               1.000000      4.000000         3.000000          4.000000   \n",
       "50%               1.000000      5.000000         3.000000          4.000000   \n",
       "75%               3.000000      6.000000         5.000000          5.000000   \n",
       "max              11.000000      6.000000         6.000000          6.000000   \n",
       "\n",
       "       TeachersGood  UnderstandClassMaterial  StruggleWithHomework  \\\n",
       "count    636.000000               632.000000            635.000000   \n",
       "mean       3.738994                 3.150316              3.677165   \n",
       "std        1.421252                 1.312333              1.542673   \n",
       "min        1.000000                 1.000000              1.000000   \n",
       "25%        3.000000                 2.000000              3.000000   \n",
       "50%        4.000000                 3.000000              4.000000   \n",
       "75%        5.000000                 4.000000              5.000000   \n",
       "max        6.000000                 6.000000              6.000000   \n",
       "\n",
       "       NoTimeforHomework  ImproveinClassImport  LearningMainGoal  \n",
       "count         637.000000            636.000000        635.000000  \n",
       "mean            4.230769              4.628931          4.494488  \n",
       "std             1.627726              1.315221          1.321224  \n",
       "min             1.000000              1.000000          1.000000  \n",
       "25%             3.000000              4.000000          4.000000  \n",
       "50%             4.000000              5.000000          5.000000  \n",
       "75%             6.000000              6.000000          5.000000  \n",
       "max             6.000000              6.000000          6.000000  "
      ]
     },
     "execution_count": 12,
     "metadata": {},
     "output_type": "execute_result"
    }
   ],
   "source": [
    "df.describe()"
   ]
  },
  {
   "cell_type": "markdown",
   "metadata": {},
   "source": [
    "# Graph the Means"
   ]
  },
  {
   "cell_type": "code",
   "execution_count": 32,
   "metadata": {
    "collapsed": false
   },
   "outputs": [
    {
     "data": {
      "image/png": "[encoded data removed]",
      "text/plain": [
       "<matplotlib.figure.Figure at 0x10adeb70>"
      ]
     },
     "metadata": {},
     "output_type": "display_data"
    },
    {
     "data": {
      "image/png": "[encoded data removed]",
      "text/plain": [
       "<matplotlib.figure.Figure at 0xee62a58>"
      ]
     },
     "metadata": {},
     "output_type": "display_data"
    },
    {
     "data": {
      "image/png": "[encoded data removed]",
      "text/plain": [
       "<matplotlib.figure.Figure at 0x108e4780>"
      ]
     },
     "metadata": {},
     "output_type": "display_data"
    },
    {
     "data": {
      "image/png": "[encoded data removed]",
      "text/plain": [
       "<matplotlib.figure.Figure at 0xf3c6588>"
      ]
     },
     "metadata": {},
     "output_type": "display_data"
    },
    {
     "data": {
      "image/png": "[encoded data removed]",
      "text/plain": [
       "<matplotlib.figure.Figure at 0x105e6ba8>"
      ]
     },
     "metadata": {},
     "output_type": "display_data"
    },
    {
     "data": {
      "image/png": "[encoded data removed]",
      "text/plain": [
       "<matplotlib.figure.Figure at 0x10aec128>"
      ]
     },
     "metadata": {},
     "output_type": "display_data"
    },
    {
     "data": {
      "image/png": "[encoded data removed]",
      "text/plain": [
       "<matplotlib.figure.Figure at 0xeefd6d8>"
      ]
     },
     "metadata": {},
     "output_type": "display_data"
    },
    {
     "data": {
      "image/png": "[encoded data removed]",
      "text/plain": [
       "<matplotlib.figure.Figure at 0x105e6710>"
      ]
     },
     "metadata": {},
     "output_type": "display_data"
    },
    {
     "data": {
      "image/png": "[encoded data removed]",
      "text/plain": [
       "<matplotlib.figure.Figure at 0x101c1470>"
      ]
     },
     "metadata": {},
     "output_type": "display_data"
    },
    {
     "data": {
      "image/png": "[encoded data removed]",
      "text/plain": [
       "<matplotlib.figure.Figure at 0x108c7f60>"
      ]
     },
     "metadata": {},
     "output_type": "display_data"
    },
    {
     "data": {
      "image/png": "[encoded data removed]",
      "text/plain": [
       "<matplotlib.figure.Figure at 0x108c7dd8>"
      ]
     },
     "metadata": {},
     "output_type": "display_data"
    },
    {
     "data": {
      "image/png": "[encoded data removed]",
      "text/plain": [
       "<matplotlib.figure.Figure at 0x108c7780>"
      ]
     },
     "metadata": {},
     "output_type": "display_data"
    },
    {
     "data": {
      "image/png": "[encoded data removed]",
      "text/plain": [
       "<matplotlib.figure.Figure at 0x105eba20>"
      ]
     },
     "metadata": {},
     "output_type": "display_data"
    },
    {
     "data": {
      "image/png": "[encoded data removed]",
      "text/plain": [
       "<matplotlib.figure.Figure at 0xee7af98>"
      ]
     },
     "metadata": {},
     "output_type": "display_data"
    },
    {
     "data": {
      "image/png": "[encoded data removed]",
      "text/plain": [
       "<matplotlib.figure.Figure at 0xf3c6128>"
      ]
     },
     "metadata": {},
     "output_type": "display_data"
    },
    {
     "data": {
      "image/png": "[encoded data removed]",
      "text/plain": [
       "<matplotlib.figure.Figure at 0xf193b38>"
      ]
     },
     "metadata": {},
     "output_type": "display_data"
    },
    {
     "data": {
      "image/png": "[encoded data removed]",
      "text/plain": [
       "<matplotlib.figure.Figure at 0xed674e0>"
      ]
     },
     "metadata": {},
     "output_type": "display_data"
    },
    {
     "data": {
      "image/png": "[encoded data removed]",
      "text/plain": [
       "<matplotlib.figure.Figure at 0x108e4630>"
      ]
     },
     "metadata": {},
     "output_type": "display_data"
    }
   ],
   "source": [
    "#Plots the means of both individual and social cheaters in multiple aspects.\n",
    "\n",
    "for df.keys in df:\n",
    "    if df.keys != 'SOCcheatstyle':  #selects all other attributes other than  \n",
    "        keys = df.groupby(by='SOCcheatstyle')[df.keys].mean()  #means \n",
    "        nodes = [1,2]\n",
    "        plt.bar(nodes,keys, color = 'steelblue')\n",
    "        plt.xlabel('Individual vs Social') #labels the x-axis\n",
    "        plt.title(str(df.keys))\n",
    "        plt.xticks(nodes,['Individual','Social']) #labels the individual bars\n",
    "        plt.show()"
   ]
  },
  {
   "cell_type": "markdown",
   "metadata": {
    "collapsed": false
   },
   "source": [
    "# T-Values"
   ]
  },
  {
   "cell_type": "code",
   "execution_count": 34,
   "metadata": {
    "collapsed": false
   },
   "outputs": [
    {
     "name": "stdout",
     "output_type": "stream",
     "text": [
      "GPA\n",
      "  T-value\n",
      "    1.08023940339\n",
      " \n",
      "HoursinExtracurricular\n",
      "  T-value\n",
      "    -1.72692143064\n",
      " \n",
      "Income\n",
      "  T-value\n",
      "    -2.60371389307\n",
      " \n",
      "Gender\n",
      "  T-value\n",
      "    -1.09696449767\n",
      " \n",
      "Gradelevel\n",
      "  T-value\n",
      "    -2.94869125559\n",
      " \n",
      "FreshmanAcademy\n",
      "  T-value\n",
      "    0.468923992025\n",
      " \n",
      "CheatStyleCAT\n",
      "  T-value\n",
      "    -72.1913303397\n",
      " \n",
      "PercentThinkCheat\n",
      "  T-value\n",
      "    -11.1693478021\n",
      " \n",
      "NumberHonorsClasses\n",
      "  T-value\n",
      "    0.683031342889\n",
      " \n",
      "BoredinClass\n",
      "  T-value\n",
      "    -3.66864089463\n",
      " \n",
      "LearnFromAssgmt\n",
      "  T-value\n",
      "    -4.68073221547\n",
      " \n",
      "HOmewrkIsBusyWrk\n",
      "  T-value\n",
      "    -3.41055169526\n",
      " \n",
      "TeachersGood\n",
      "  T-value\n",
      "    5.10046239028\n",
      " \n",
      "UnderstandClassMaterial\n",
      "  T-value\n",
      "    -3.11410090182\n",
      " \n",
      "StruggleWithHomework\n",
      "  T-value\n",
      "    4.22912401635\n",
      " \n",
      "NoTimeforHomework\n",
      "  T-value\n",
      "    -4.98003268096\n",
      " \n",
      "ImproveinClassImport\n",
      "  T-value\n",
      "    3.52323601547\n",
      " \n",
      "LearningMainGoal\n",
      "  T-value\n",
      "    5.12025752089\n",
      " \n"
     ]
    }
   ],
   "source": [
    "for df.keys in df:\n",
    "    if df.keys != 'SOCcheatstyle':\n",
    "        mean_individual = df.groupby(by='SOCcheatstyle')[df.keys].mean()[1]\n",
    "        mean_soc = df.groupby(by='SOCcheatstyle')[df.keys].mean()[2]\n",
    "        std_ind = df.groupby(by='SOCcheatstyle')[df.keys].std()[1] #gather the standard deviation of the individual cheaters\n",
    "        std_soc = df.groupby(by='SOCcheatstyle')[df.keys].std()[2]\n",
    "        \n",
    "        n_ind = df.groupby(by='SOCcheatstyle')[df.keys].count()[1] #counts the entries of individual cheaters\n",
    "        n_soc = df.groupby(by='SOCcheatstyle')[df.keys].count()[2] #counts the entries of social cheaters\n",
    "        rep1 = (std_ind**2)*(1.0/float(n_ind)) \n",
    "        rep2 = (std_soc**2)*(1.0/float(n_soc))\n",
    "        tot = math.sqrt(rep1+rep2)\n",
    "        t = (mean_individual-mean_soc)/(tot) #calculates t value\n",
    "        \n",
    "        print(df.keys) #prints and formats answer nicely\n",
    "        print('  T-value')\n",
    "        print('    ' + str(t))\n",
    "        print(' ')"
   ]
  },
  {
   "cell_type": "code",
   "execution_count": null,
   "metadata": {
    "collapsed": false
   },
   "outputs": [],
   "source": []
  },
  {
   "cell_type": "code",
   "execution_count": null,
   "metadata": {
    "collapsed": true
   },
   "outputs": [],
   "source": []
  }
 ],
 "metadata": {
  "kernelspec": {
   "display_name": "Python 2",
   "language": "python",
   "name": "python2"
  },
  "language_info": {
   "codemirror_mode": {
    "name": "ipython",
    "version": 2
   },
   "file_extension": ".py",
   "mimetype": "text/x-python",
   "name": "python",
   "nbconvert_exporter": "python",
   "pygments_lexer": "ipython2",
   "version": "2.7.14"
  }
 },
 "nbformat": 4,
 "nbformat_minor": 2
}
