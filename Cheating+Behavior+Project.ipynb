{
 "cells": [
  {
   "cell_type": "markdown",
   "metadata": {},
   "source": [
    "# Setup Data Processing"
   ]
  },
  {
   "cell_type": "code",
   "execution_count": 1,
   "metadata": {
    "collapsed": true
   },
   "outputs": [],
   "source": [
    "import pandas as pd\n",
    "import numpy as np\n",
    "import seaborn as sns\n",
    "import matplotlib.pyplot as plt\n",
    "import math\n",
    "import scipy"
   ]
  },
  {
   "cell_type": "code",
   "execution_count": 2,
   "metadata": {
    "collapsed": false
   },
   "outputs": [],
   "source": [
    "df=pd.read_csv(\"C:\\\\Azure-TDSP-Utilities-master\\\\Azure-TDSP-Utilities-master\\\\DataScienceUtilities\\\\DataReport-Utils\\\\Python\\\\CheatingEdited3.csv\")"
   ]
  },
  {
   "cell_type": "markdown",
   "metadata": {},
   "source": [
    "# Create Functions"
   ]
  },
  {
   "cell_type": "code",
   "execution_count": 3,
   "metadata": {
    "collapsed": false
   },
   "outputs": [
    {
     "data": {
      "text/html": [
       "<div>\n",
       "<style>\n",
       "    .dataframe thead tr:only-child th {\n",
       "        text-align: right;\n",
       "    }\n",
       "\n",
       "    .dataframe thead th {\n",
       "        text-align: left;\n",
       "    }\n",
       "\n",
       "    .dataframe tbody tr th {\n",
       "        vertical-align: top;\n",
       "    }\n",
       "</style>\n",
       "<table border=\"1\" class=\"dataframe\">\n",
       "  <thead>\n",
       "    <tr style=\"text-align: right;\">\n",
       "      <th></th>\n",
       "      <th>GPA</th>\n",
       "      <th>HoursinExtracurricular</th>\n",
       "      <th>Income</th>\n",
       "      <th>Gender</th>\n",
       "      <th>Gradelevel</th>\n",
       "      <th>FreshmanAcademy</th>\n",
       "      <th>CheatStyleCAT</th>\n",
       "      <th>SOCcheatstyle</th>\n",
       "      <th>PercentThinkCheat</th>\n",
       "      <th>NumberHonorsClasses</th>\n",
       "      <th>BoredinClass</th>\n",
       "      <th>LearnFromAssgmt</th>\n",
       "      <th>HOmewrkIsBusyWrk</th>\n",
       "      <th>TeachersGood</th>\n",
       "      <th>UnderstandClassMaterial</th>\n",
       "      <th>StruggleWithHomework</th>\n",
       "      <th>NoTimeforHomework</th>\n",
       "      <th>ImproveinClassImport</th>\n",
       "      <th>LearningMainGoal</th>\n",
       "    </tr>\n",
       "  </thead>\n",
       "  <tbody>\n",
       "    <tr>\n",
       "      <th>count</th>\n",
       "      <td>635.000000</td>\n",
       "      <td>635.000000</td>\n",
       "      <td>555.000000</td>\n",
       "      <td>629.000000</td>\n",
       "      <td>635.000000</td>\n",
       "      <td>198.000000</td>\n",
       "      <td>639.000000</td>\n",
       "      <td>621.000000</td>\n",
       "      <td>637.000000</td>\n",
       "      <td>630.000000</td>\n",
       "      <td>635.000000</td>\n",
       "      <td>636.000000</td>\n",
       "      <td>633.000000</td>\n",
       "      <td>636.000000</td>\n",
       "      <td>632.000000</td>\n",
       "      <td>635.000000</td>\n",
       "      <td>637.000000</td>\n",
       "      <td>636.000000</td>\n",
       "      <td>635.000000</td>\n",
       "    </tr>\n",
       "    <tr>\n",
       "      <th>mean</th>\n",
       "      <td>6.366929</td>\n",
       "      <td>3.316535</td>\n",
       "      <td>3.652252</td>\n",
       "      <td>1.513514</td>\n",
       "      <td>2.245669</td>\n",
       "      <td>1.217172</td>\n",
       "      <td>2.247261</td>\n",
       "      <td>1.470209</td>\n",
       "      <td>61.576923</td>\n",
       "      <td>2.261905</td>\n",
       "      <td>4.680315</td>\n",
       "      <td>3.564465</td>\n",
       "      <td>4.266983</td>\n",
       "      <td>3.738994</td>\n",
       "      <td>3.150316</td>\n",
       "      <td>3.677165</td>\n",
       "      <td>4.230769</td>\n",
       "      <td>4.628931</td>\n",
       "      <td>4.494488</td>\n",
       "    </tr>\n",
       "    <tr>\n",
       "      <th>std</th>\n",
       "      <td>1.621769</td>\n",
       "      <td>2.180128</td>\n",
       "      <td>1.884712</td>\n",
       "      <td>0.500215</td>\n",
       "      <td>1.059489</td>\n",
       "      <td>0.413366</td>\n",
       "      <td>1.288320</td>\n",
       "      <td>0.499514</td>\n",
       "      <td>26.050303</td>\n",
       "      <td>1.852161</td>\n",
       "      <td>1.340996</td>\n",
       "      <td>1.374891</td>\n",
       "      <td>1.285188</td>\n",
       "      <td>1.421252</td>\n",
       "      <td>1.312333</td>\n",
       "      <td>1.542673</td>\n",
       "      <td>1.627726</td>\n",
       "      <td>1.315221</td>\n",
       "      <td>1.321224</td>\n",
       "    </tr>\n",
       "    <tr>\n",
       "      <th>min</th>\n",
       "      <td>1.000000</td>\n",
       "      <td>1.000000</td>\n",
       "      <td>1.000000</td>\n",
       "      <td>1.000000</td>\n",
       "      <td>1.000000</td>\n",
       "      <td>1.000000</td>\n",
       "      <td>1.000000</td>\n",
       "      <td>1.000000</td>\n",
       "      <td>0.000000</td>\n",
       "      <td>1.000000</td>\n",
       "      <td>1.000000</td>\n",
       "      <td>1.000000</td>\n",
       "      <td>1.000000</td>\n",
       "      <td>1.000000</td>\n",
       "      <td>1.000000</td>\n",
       "      <td>1.000000</td>\n",
       "      <td>1.000000</td>\n",
       "      <td>1.000000</td>\n",
       "      <td>1.000000</td>\n",
       "    </tr>\n",
       "    <tr>\n",
       "      <th>25%</th>\n",
       "      <td>5.000000</td>\n",
       "      <td>1.000000</td>\n",
       "      <td>2.000000</td>\n",
       "      <td>1.000000</td>\n",
       "      <td>1.000000</td>\n",
       "      <td>1.000000</td>\n",
       "      <td>1.000000</td>\n",
       "      <td>1.000000</td>\n",
       "      <td>40.000000</td>\n",
       "      <td>1.000000</td>\n",
       "      <td>4.000000</td>\n",
       "      <td>3.000000</td>\n",
       "      <td>4.000000</td>\n",
       "      <td>3.000000</td>\n",
       "      <td>2.000000</td>\n",
       "      <td>3.000000</td>\n",
       "      <td>3.000000</td>\n",
       "      <td>4.000000</td>\n",
       "      <td>4.000000</td>\n",
       "    </tr>\n",
       "    <tr>\n",
       "      <th>50%</th>\n",
       "      <td>7.000000</td>\n",
       "      <td>3.000000</td>\n",
       "      <td>3.000000</td>\n",
       "      <td>2.000000</td>\n",
       "      <td>2.000000</td>\n",
       "      <td>1.000000</td>\n",
       "      <td>2.000000</td>\n",
       "      <td>1.000000</td>\n",
       "      <td>70.000000</td>\n",
       "      <td>1.000000</td>\n",
       "      <td>5.000000</td>\n",
       "      <td>3.000000</td>\n",
       "      <td>4.000000</td>\n",
       "      <td>4.000000</td>\n",
       "      <td>3.000000</td>\n",
       "      <td>4.000000</td>\n",
       "      <td>4.000000</td>\n",
       "      <td>5.000000</td>\n",
       "      <td>5.000000</td>\n",
       "    </tr>\n",
       "    <tr>\n",
       "      <th>75%</th>\n",
       "      <td>8.000000</td>\n",
       "      <td>5.000000</td>\n",
       "      <td>5.000000</td>\n",
       "      <td>2.000000</td>\n",
       "      <td>3.000000</td>\n",
       "      <td>1.000000</td>\n",
       "      <td>4.000000</td>\n",
       "      <td>2.000000</td>\n",
       "      <td>80.000000</td>\n",
       "      <td>3.000000</td>\n",
       "      <td>6.000000</td>\n",
       "      <td>5.000000</td>\n",
       "      <td>5.000000</td>\n",
       "      <td>5.000000</td>\n",
       "      <td>4.000000</td>\n",
       "      <td>5.000000</td>\n",
       "      <td>6.000000</td>\n",
       "      <td>6.000000</td>\n",
       "      <td>5.000000</td>\n",
       "    </tr>\n",
       "    <tr>\n",
       "      <th>max</th>\n",
       "      <td>8.000000</td>\n",
       "      <td>7.000000</td>\n",
       "      <td>7.000000</td>\n",
       "      <td>2.000000</td>\n",
       "      <td>4.000000</td>\n",
       "      <td>2.000000</td>\n",
       "      <td>4.000000</td>\n",
       "      <td>2.000000</td>\n",
       "      <td>100.000000</td>\n",
       "      <td>11.000000</td>\n",
       "      <td>6.000000</td>\n",
       "      <td>6.000000</td>\n",
       "      <td>6.000000</td>\n",
       "      <td>6.000000</td>\n",
       "      <td>6.000000</td>\n",
       "      <td>6.000000</td>\n",
       "      <td>6.000000</td>\n",
       "      <td>6.000000</td>\n",
       "      <td>6.000000</td>\n",
       "    </tr>\n",
       "  </tbody>\n",
       "</table>\n",
       "</div>"
      ],
      "text/plain": [
       "              GPA  HoursinExtracurricular      Income      Gender  Gradelevel  \\\n",
       "count  635.000000              635.000000  555.000000  629.000000  635.000000   \n",
       "mean     6.366929                3.316535    3.652252    1.513514    2.245669   \n",
       "std      1.621769                2.180128    1.884712    0.500215    1.059489   \n",
       "min      1.000000                1.000000    1.000000    1.000000    1.000000   \n",
       "25%      5.000000                1.000000    2.000000    1.000000    1.000000   \n",
       "50%      7.000000                3.000000    3.000000    2.000000    2.000000   \n",
       "75%      8.000000                5.000000    5.000000    2.000000    3.000000   \n",
       "max      8.000000                7.000000    7.000000    2.000000    4.000000   \n",
       "\n",
       "       FreshmanAcademy  CheatStyleCAT  SOCcheatstyle  PercentThinkCheat  \\\n",
       "count       198.000000     639.000000     621.000000         637.000000   \n",
       "mean          1.217172       2.247261       1.470209          61.576923   \n",
       "std           0.413366       1.288320       0.499514          26.050303   \n",
       "min           1.000000       1.000000       1.000000           0.000000   \n",
       "25%           1.000000       1.000000       1.000000          40.000000   \n",
       "50%           1.000000       2.000000       1.000000          70.000000   \n",
       "75%           1.000000       4.000000       2.000000          80.000000   \n",
       "max           2.000000       4.000000       2.000000         100.000000   \n",
       "\n",
       "       NumberHonorsClasses  BoredinClass  LearnFromAssgmt  HOmewrkIsBusyWrk  \\\n",
       "count           630.000000    635.000000       636.000000        633.000000   \n",
       "mean              2.261905      4.680315         3.564465          4.266983   \n",
       "std               1.852161      1.340996         1.374891          1.285188   \n",
       "min               1.000000      1.000000         1.000000          1.000000   \n",
       "25%               1.000000      4.000000         3.000000          4.000000   \n",
       "50%               1.000000      5.000000         3.000000          4.000000   \n",
       "75%               3.000000      6.000000         5.000000          5.000000   \n",
       "max              11.000000      6.000000         6.000000          6.000000   \n",
       "\n",
       "       TeachersGood  UnderstandClassMaterial  StruggleWithHomework  \\\n",
       "count    636.000000               632.000000            635.000000   \n",
       "mean       3.738994                 3.150316              3.677165   \n",
       "std        1.421252                 1.312333              1.542673   \n",
       "min        1.000000                 1.000000              1.000000   \n",
       "25%        3.000000                 2.000000              3.000000   \n",
       "50%        4.000000                 3.000000              4.000000   \n",
       "75%        5.000000                 4.000000              5.000000   \n",
       "max        6.000000                 6.000000              6.000000   \n",
       "\n",
       "       NoTimeforHomework  ImproveinClassImport  LearningMainGoal  \n",
       "count         637.000000            636.000000        635.000000  \n",
       "mean            4.230769              4.628931          4.494488  \n",
       "std             1.627726              1.315221          1.321224  \n",
       "min             1.000000              1.000000          1.000000  \n",
       "25%             3.000000              4.000000          4.000000  \n",
       "50%             4.000000              5.000000          5.000000  \n",
       "75%             6.000000              6.000000          5.000000  \n",
       "max             6.000000              6.000000          6.000000  "
      ]
     },
     "execution_count": 3,
     "metadata": {},
     "output_type": "execute_result"
    }
   ],
   "source": [
    "df.describe()"
   ]
  },
  {
   "cell_type": "code",
   "execution_count": 4,
   "metadata": {
    "collapsed": false
   },
   "outputs": [
    {
     "data": {
      "image/png": "[encoded data removed]",
      "text/plain": [
       "<matplotlib.figure.Figure at 0x8500a90>"
      ]
     },
     "metadata": {},
     "output_type": "display_data"
    },
    {
     "data": {
      "image/png": "[encoded data removed]",
      "text/plain": [
       "<matplotlib.figure.Figure at 0x8500860>"
      ]
     },
     "metadata": {},
     "output_type": "display_data"
    },
    {
     "data": {
      "image/png": "[encoded data removed]",
      "text/plain": [
       "<matplotlib.figure.Figure at 0xed1ce10>"
      ]
     },
     "metadata": {},
     "output_type": "display_data"
    },
    {
     "data": {
      "image/png": "[encoded data removed]",
      "text/plain": [
       "<matplotlib.figure.Figure at 0xeeed160>"
      ]
     },
     "metadata": {},
     "output_type": "display_data"
    },
    {
     "data": {
      "image/png": "[encoded data removed]",
      "text/plain": [
       "<matplotlib.figure.Figure at 0xeeed128>"
      ]
     },
     "metadata": {},
     "output_type": "display_data"
    },
    {
     "data": {
      "image/png": "[encoded data removed]",
      "text/plain": [
       "<matplotlib.figure.Figure at 0xf37f320>"
      ]
     },
     "metadata": {},
     "output_type": "display_data"
    },
    {
     "data": {
      "image/png": "[encoded data removed]",
      "text/plain": [
       "<matplotlib.figure.Figure at 0xf37fef0>"
      ]
     },
     "metadata": {},
     "output_type": "display_data"
    },
    {
     "data": {
      "image/png": "[encoded data removed]",
      "text/plain": [
       "<matplotlib.figure.Figure at 0xf172400>"
      ]
     },
     "metadata": {},
     "output_type": "display_data"
    },
    {
     "data": {
      "image/png": "[encoded data removed]",
      "text/plain": [
       "<matplotlib.figure.Figure at 0x8d39470>"
      ]
     },
     "metadata": {},
     "output_type": "display_data"
    },
    {
     "data": {
      "image/png": "[encoded data removed]",
      "text/plain": [
       "<matplotlib.figure.Figure at 0xeef6128>"
      ]
     },
     "metadata": {},
     "output_type": "display_data"
    },
    {
     "data": {
      "image/png": "[encoded data removed]",
      "text/plain": [
       "<matplotlib.figure.Figure at 0xed67198>"
      ]
     },
     "metadata": {},
     "output_type": "display_data"
    },
    {
     "data": {
      "image/png": "[encoded data removed]",
      "text/plain": [
       "<matplotlib.figure.Figure at 0xf04b710>"
      ]
     },
     "metadata": {},
     "output_type": "display_data"
    },
    {
     "data": {
      "image/png": "[encoded data removed]",
      "text/plain": [
       "<matplotlib.figure.Figure at 0xf04bb70>"
      ]
     },
     "metadata": {},
     "output_type": "display_data"
    },
    {
     "data": {
      "image/png": "[encoded data removed]",
      "text/plain": [
       "<matplotlib.figure.Figure at 0x100e0588>"
      ]
     },
     "metadata": {},
     "output_type": "display_data"
    },
    {
     "data": {
      "image/png": "[encoded data removed]",
      "text/plain": [
       "<matplotlib.figure.Figure at 0x103d28d0>"
      ]
     },
     "metadata": {},
     "output_type": "display_data"
    },
    {
     "data": {
      "image/png": "[encoded data removed]",
      "text/plain": [
       "<matplotlib.figure.Figure at 0x103f7400>"
      ]
     },
     "metadata": {},
     "output_type": "display_data"
    },
    {
     "data": {
      "image/png": "[encoded data removed]",
      "text/plain": [
       "<matplotlib.figure.Figure at 0x106a24e0>"
      ]
     },
     "metadata": {},
     "output_type": "display_data"
    },
    {
     "data": {
      "image/png": "[encoded data removed]",
      "text/plain": [
       "<matplotlib.figure.Figure at 0x106a24a8>"
      ]
     },
     "metadata": {},
     "output_type": "display_data"
    }
   ],
   "source": [
    "for df.keys in df:\n",
    "    if df.keys != 'SOCcheatstyle':\n",
    "        keys = df.groupby(by='SOCcheatstyle')[df.keys].mean()\n",
    "        nodes = [1,2]\n",
    "        plt.bar(nodes,keys, color = 'g')\n",
    "        plt.xlabel('Individual vs Social')\n",
    "        plt.title(str(df.keys))\n",
    "        plt.xticks(nodes,['Individual','Social'])\n",
    "        plt.show()\n"
   ]
  },
  {
   "cell_type": "code",
   "execution_count": 5,
   "metadata": {
    "collapsed": false
   },
   "outputs": [
    {
     "name": "stdout",
     "output_type": "stream",
     "text": [
      "GPA\n",
      "0.140634312473\n",
      "1.62231728991\n",
      "324\n",
      "290\n",
      "    1.08023940339\n",
      " \n",
      "HoursinExtracurricular\n",
      "-0.305200958211\n",
      "2.11866395213\n",
      "325\n",
      "289\n",
      "    -1.72692143064\n",
      " \n",
      "Income\n",
      "-0.426137001684\n",
      "1.83419054802\n",
      "274\n",
      "260\n",
      "    -2.60371389307\n",
      " \n",
      "Gender\n",
      "-0.0445820433437\n",
      "0.50071579247\n",
      "323\n",
      "285\n",
      "    -1.09696449767\n",
      " \n",
      "Gradelevel\n",
      "-0.251895875937\n",
      "1.02030818244\n",
      "326\n",
      "288\n",
      "    -2.94869125559\n",
      " \n",
      "FreshmanAcademy\n",
      "0.0280701754386\n",
      "0.421440591333\n",
      "114\n",
      "80\n",
      "    0.468923992025\n",
      " \n",
      "CheatStyleCAT\n",
      "-2.45680143232\n",
      "0.323740051622\n",
      "329\n",
      "292\n",
      "    -72.1913303397\n",
      " \n",
      "PercentThinkCheat\n",
      "-21.1480847286\n",
      "24.8124630928\n",
      "324\n",
      "292\n",
      "    -11.1693478021\n",
      " \n",
      "NumberHonorsClasses\n",
      "0.103805668016\n",
      "1.86127120118\n",
      "325\n",
      "285\n",
      "    0.683031342889\n",
      " \n",
      "BoredinClass\n",
      "-0.393122171946\n",
      "1.34853865544\n",
      "325\n",
      "289\n",
      "    -3.66864089463\n",
      " \n",
      "LearnFromAssgmt\n",
      "-0.51374005305\n",
      "1.27655459849\n",
      "325\n",
      "290\n",
      "    -4.68073221547\n",
      " \n",
      "HOmewrkIsBusyWrk\n",
      "-0.352717983797\n",
      "1.21118353266\n",
      "326\n",
      "287\n",
      "    -3.41055169526\n",
      " \n",
      "TeachersGood\n",
      "0.570272680938\n",
      "1.36789185297\n",
      "327\n",
      "288\n",
      "    5.10046239028\n",
      " \n",
      "UnderstandClassMaterial\n",
      "-0.325260147919\n",
      "1.21452408211\n",
      "323\n",
      "288\n",
      "    -3.11410090182\n",
      " \n",
      "StruggleWithHomework\n",
      "0.516253408316\n",
      "1.47531201457\n",
      "326\n",
      "288\n",
      "    4.22912401635\n",
      " \n",
      "NoTimeforHomework\n",
      "-0.635286651153\n",
      "1.5992447486\n",
      "326\n",
      "290\n",
      "    -4.98003268096\n",
      " \n",
      "ImproveinClassImport\n",
      "0.37456445993\n",
      "1.15340791451\n",
      "328\n",
      "287\n",
      "    3.52323601547\n",
      " \n",
      "LearningMainGoal\n",
      "0.540657513218\n",
      "1.17308885661\n",
      "328\n",
      "286\n",
      "    5.12025752089\n",
      " \n"
     ]
    }
   ],
   "source": [
    "for df.keys in df:\n",
    "    if df.keys != 'SOCcheatstyle':\n",
    "        mean_individual = df.groupby(by='SOCcheatstyle')[df.keys].mean()[1]\n",
    "        mean_soc = df.groupby(by='SOCcheatstyle')[df.keys].mean()[2]\n",
    "        std1 = df.groupby(by='SOCcheatstyle')[df.keys].std()[1]\n",
    "        std2 = df.groupby(by='SOCcheatstyle')[df.keys].std()[2]\n",
    "        std_ind = float(std1)\n",
    "        std_soc = float(std2)\n",
    "        \n",
    "        n_ind = df.groupby(by='SOCcheatstyle')[df.keys].count()[1]\n",
    "        n_soc = df.groupby(by='SOCcheatstyle')[df.keys].count()[2]\n",
    "        rep1 = (std_ind**2)*(1.0/float(n_ind)) \n",
    "        rep2 = (std_soc**2)*(1.0/float(n_soc))\n",
    "        tot = math.sqrt(rep1+rep2)\n",
    "        #perform t test\n",
    "        #denom = (float(1.0) / float(df.groupby(by='SOCcheatstyle')[df.keys].count()[1])+(float(1.0) / (float(df.groupby(by='SOCcheatstyle')[df.keys].count()[2]))\n",
    "        z = (mean_individual-mean_soc)/(tot)\n",
    "        dif=mean_individual-mean_soc\n",
    "        print(df.keys)\n",
    "        print(dif)\n",
    "        print(std_ind)\n",
    "        print(n_ind)\n",
    "        print(n_soc)\n",
    "        print('    ' + str(z))\n",
    "        print(' ')"
   ]
  },
  {
   "cell_type": "markdown",
   "metadata": {
    "collapsed": false
   },
   "source": [
    "# Everything Below here is NOT USED"
   ]
  },
  {
   "cell_type": "code",
   "execution_count": 6,
   "metadata": {
    "collapsed": false
   },
   "outputs": [
    {
     "name": "stdout",
     "output_type": "stream",
     "text": [
      "GPA\n",
      "    1.08023940339\n",
      "HoursinExtracurricular\n",
      "    -1.72692143064\n",
      "Income\n",
      "    -2.60371389307\n",
      "Gender\n",
      "    -1.09696449767\n",
      "Gradelevel\n",
      "    -2.94869125559\n",
      "FreshmanAcademy\n",
      "    0.468923992025\n",
      "CheatStyleCAT\n",
      "    -72.1913303397\n",
      "PercentThinkCheat\n",
      "    -11.1693478021\n",
      "NumberHonorsClasses\n",
      "    0.683031342889\n",
      "BoredinClass\n",
      "    -3.66864089463\n",
      "LearnFromAssgmt\n",
      "    -4.68073221547\n",
      "HOmewrkIsBusyWrk\n",
      "    -3.41055169526\n",
      "TeachersGood\n",
      "    5.10046239028\n",
      "UnderstandClassMaterial\n",
      "    -3.11410090182\n",
      "StruggleWithHomework\n",
      "    4.22912401635\n",
      "NoTimeforHomework\n",
      "    -4.98003268096\n",
      "ImproveinClassImport\n",
      "    3.52323601547\n",
      "LearningMainGoal\n",
      "    5.12025752089\n"
     ]
    }
   ],
   "source": [
    "for df.keys in df:\n",
    "    if df.keys != 'SOCcheatstyle':\n",
    "        mean_individual = df.groupby(by='SOCcheatstyle')[df.keys].mean()[1]\n",
    "        mean_soc = df.groupby(by='SOCcheatstyle')[df.keys].mean()[2]\n",
    "        std1 = df.groupby(by='SOCcheatstyle')[df.keys].std()[1]\n",
    "        std2 = df.groupby(by='SOCcheatstyle')[df.keys].std()[2]\n",
    "        std_ind = float(std1)\n",
    "        std_soc = float(std2)\n",
    "        \n",
    "        n_ind = df.groupby(by='SOCcheatstyle')[df.keys].count()[1]\n",
    "        n_soc = df.groupby(by='SOCcheatstyle')[df.keys].count()[2]\n",
    "        rep1 = (std_ind**2)*(1/float(n_ind)) \n",
    "        rep2 = (std_soc**2)*(1/float(n_soc))\n",
    "        tot = math.sqrt(rep1+rep2)\n",
    "        #perform t test\n",
    "        #denom = (float(1.0) / float(df.groupby(by='SOCcheatstyle')[df.keys].count()[1])+(float(1.0) / (float(df.groupby(by='SOCcheatstyle')[df.keys].count()[2]))\n",
    "        z = (mean_individual-mean_soc)/(tot)\n",
    "        print(df.keys)\n",
    "        print('    ' + str(z))"
   ]
  },
  {
   "cell_type": "code",
   "execution_count": 7,
   "metadata": {
    "collapsed": false
   },
   "outputs": [
    {
     "ename": "NameError",
     "evalue": "name 'something' is not defined",
     "output_type": "error",
     "traceback": [
      "\u001b[1;31m---------------------------------------------------------------------------\u001b[0m",
      "\u001b[1;31mNameError\u001b[0m                                 Traceback (most recent call last)",
      "\u001b[1;32m<ipython-input-7-d99d8ef00d9f>\u001b[0m in \u001b[0;36m<module>\u001b[1;34m()\u001b[0m\n\u001b[0;32m     22\u001b[0m \u001b[1;33m\u001b[0m\u001b[0m\n\u001b[0;32m     23\u001b[0m     \u001b[1;31m#plt.plot(Malignant, y, marker='.', linestyle='none')\u001b[0m\u001b[1;33m\u001b[0m\u001b[1;33m\u001b[0m\u001b[0m\n\u001b[1;32m---> 24\u001b[1;33m \u001b[0msns\u001b[0m\u001b[1;33m.\u001b[0m\u001b[0mswarmplot\u001b[0m\u001b[1;33m(\u001b[0m\u001b[0mx\u001b[0m\u001b[1;33m=\u001b[0m\u001b[1;34m'SOCcheatstyle'\u001b[0m\u001b[1;33m,\u001b[0m \u001b[0my\u001b[0m\u001b[1;33m=\u001b[0m\u001b[0msomething\u001b[0m\u001b[1;33m,\u001b[0m \u001b[0mdata\u001b[0m\u001b[1;33m=\u001b[0m\u001b[0mdf\u001b[0m\u001b[1;33m)\u001b[0m\u001b[1;33m\u001b[0m\u001b[0m\n\u001b[0m\u001b[0;32m     25\u001b[0m     \u001b[1;31m#return plt.show()\u001b[0m\u001b[1;33m\u001b[0m\u001b[1;33m\u001b[0m\u001b[0m\n\u001b[0;32m     26\u001b[0m \u001b[1;31m#plt.boxplot([Individual,Social])\u001b[0m\u001b[1;33m\u001b[0m\u001b[1;33m\u001b[0m\u001b[0m\n",
      "\u001b[1;31mNameError\u001b[0m: name 'something' is not defined"
     ]
    }
   ],
   "source": [
    "c = df['SOCcheatstyle'] \n",
    "s = df['PercentThinkCheat']\n",
    "n = len(c)\n",
    "soc = np.empty(n)\n",
    "ind = np.empty(n)\n",
    "for i in range(n):\n",
    "    if c[i] == 2:\n",
    "        soc[i] = s[i]\n",
    "    else:\n",
    "        ind[i] = s[i]\n",
    "Social = np.sort(soc)\n",
    "Individual = np.sort(ind)\n",
    "social_mean = np.mean(soc)\n",
    "social_std = np.std(soc)\n",
    "individual_mean = np.mean(ind)\n",
    "individual_std = np.std(ind)\n",
    "    \n",
    "    \n",
    "    # y-data for the ECDF: y\n",
    "    #y = np.arange(1, n+1) / n\n",
    "    #plt.plot(Benign, y, marker='.', linestyle='none')\n",
    "\n",
    "    #plt.plot(Malignant, y, marker='.', linestyle='none')\n",
    "sns.swarmplot(x='SOCcheatstyle', y=something, data=df)\n",
    "    #return plt.show()\n",
    "#plt.boxplot([Individual,Social])\n",
    "plt.show()\n",
    "print(social_mean)\n",
    "print(individual_mean)"
   ]
  },
  {
   "cell_type": "markdown",
   "metadata": {},
   "source": [
    "df.isnull()"
   ]
  },
  {
   "cell_type": "code",
   "execution_count": null,
   "metadata": {
    "collapsed": false
   },
   "outputs": [],
   "source": [
    "def v(something): #Creates a function\n",
    "    c = df['SOCcheatstyle'] \n",
    "    s = df[something]\n",
    "    n = len(c)\n",
    "    soc = np.empty(n)\n",
    "    ind = np.empty(n)\n",
    "    for i in range(n):\n",
    "        if c[i] == 2:\n",
    "            soc[i] = s[i]\n",
    "        else:\n",
    "            ind[i] = s[i]\n",
    "    Social = np.sort(soc)\n",
    "    Individual = np.sort(ind)\n",
    "    \n",
    "\n",
    "\n",
    "    # y-data for the ECDF: y\n",
    "    #y = np.arange(1, n+1) / n\n",
    "    #plt.plot(Benign, y, marker='.', linestyle='none')\n",
    "    #plt.plot(Malignant, y, marker='.', linestyle='none')\n",
    "    sns.boxplot(x='SOCcheatstyle', y=something, data=df)\n",
    "    return plt.show()\n"
   ]
  },
  {
   "cell_type": "code",
   "execution_count": null,
   "metadata": {
    "collapsed": false
   },
   "outputs": [],
   "source": [
    "def sig(attribute):\n",
    "    c = df['SOCcheatstyle'] \n",
    "    s = df[]\n",
    "    n = len(c)\n",
    "    soc_count=0\n",
    "    ind_count=0\n",
    "    soc = np.empty(n)\n",
    "    ind = np.empty(n)\n",
    "    for i in range(n):\n",
    "        if c[i] == 2:\n",
    "            soc[i] = s[i]\n",
    "            soc_count=soc_count+1\n",
    "        else:\n",
    "            ind[i] = s[i]\n",
    "            ind_count=ind_count+1\n",
    "    Social = np.sort(soc)\n",
    "    Individual = np.sort(ind)\n",
    "    social_mean = np.mean(soc)\n",
    "    social_std = np.std(soc)\n",
    "    individual_mean = np.mean(ind)\n",
    "    individual_std = np.std(ind)\n",
    "    \n",
    "    return Individual"
   ]
  },
  {
   "cell_type": "code",
   "execution_count": null,
   "metadata": {
    "collapsed": false
   },
   "outputs": [],
   "source": [
    "sig('PercentThinkCheat')"
   ]
  },
  {
   "cell_type": "code",
   "execution_count": null,
   "metadata": {
    "collapsed": false
   },
   "outputs": [],
   "source": [
    "df.groupby(by='SOCcheatstyle').describe()"
   ]
  },
  {
   "cell_type": "code",
   "execution_count": null,
   "metadata": {
    "collapsed": false
   },
   "outputs": [],
   "source": [
    "print(denom)"
   ]
  },
  {
   "cell_type": "code",
   "execution_count": null,
   "metadata": {
    "collapsed": false
   },
   "outputs": [],
   "source": []
  },
  {
   "cell_type": "code",
   "execution_count": null,
   "metadata": {
    "collapsed": true
   },
   "outputs": [],
   "source": []
  }
 ],
 "metadata": {
  "kernelspec": {
   "display_name": "Python 2",
   "language": "python",
   "name": "python2"
  },
  "language_info": {
   "codemirror_mode": {
    "name": "ipython",
    "version": 2
   },
   "file_extension": ".py",
   "mimetype": "text/x-python",
   "name": "python",
   "nbconvert_exporter": "python",
   "pygments_lexer": "ipython2",
   "version": "2.7.14"
  }
 },
 "nbformat": 4,
 "nbformat_minor": 2
}
